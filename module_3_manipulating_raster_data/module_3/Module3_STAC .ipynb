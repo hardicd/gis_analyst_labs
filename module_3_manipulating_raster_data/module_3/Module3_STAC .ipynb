{
 "cells": [
  {
   "cell_type": "code",
   "execution_count": null,
   "id": "070a1b2a-9c5e-41e6-8ca4-07f83df0a7c0",
   "metadata": {},
   "outputs": [],
   "source": []
  },
  {
   "cell_type": "code",
   "execution_count": 2,
   "id": "16ab1428-6865-4a73-925c-ab880d66f6b0",
   "metadata": {},
   "outputs": [],
   "source": [
    "import os\n",
    "import rasterio\n",
    "import urllib.request\n",
    "import pystac\n",
    "\n",
    "from shapely.geometry import Polygon, mapping\n",
    "from datetime import datetime, timezone\n",
    "from pystac.extensions.eo import Band, EOExtension\n",
    "from tempfile import TemporaryDirectory"
   ]
  },
  {
   "cell_type": "code",
   "execution_count": 3,
   "id": "060d4834-0654-4031-8f3e-dd04b4bf62f0",
   "metadata": {},
   "outputs": [
    {
     "name": "stdout",
     "output_type": "stream",
     "text": [
      "STAC Collection created successfully!\n",
      "Collection ID: plume-collection\n",
      "Item ID: plume-item\n",
      "Image Projection: EPSG:4326\n"
     ]
    }
   ],
   "source": [
    "import os\n",
    "from pystac import Collection, Item, Asset\n",
    "from datetime import datetime\n",
    "import rasterio\n",
    "\n",
    "# Define the path to your local GeoTIFF\n",
    "local_tiff_path = r\"C:\\CAL\\module_3\\exported_plume.tif\"\n",
    "\n",
    "# Create a STAC Collection\n",
    "collection = Collection(\n",
    "    id=\"plume-collection\",\n",
    "    description=\"Collection containing plume data\",\n",
    "    extent=None  # We'll update this after reading the data\n",
    ")\n",
    "\n",
    "# Read the GeoTIFF to get its metadata\n",
    "with rasterio.open(local_tiff_path) as dataset:\n",
    "    # Get bounds and transform to lon/lat if needed\n",
    "    bounds = dataset.bounds\n",
    "    crs = dataset.crs\n",
    "    \n",
    "    # Create a STAC Item\n",
    "    item = Item(\n",
    "        id=\"plume-item\",\n",
    "        geometry=None,  # You might want to create a proper geometry from bounds\n",
    "        bbox=[bounds.left, bounds.bottom, bounds.right, bounds.top],\n",
    "        datetime=datetime.now(),  # Set this to actual acquisition time if known\n",
    "        properties={}\n",
    "    )\n",
    "    \n",
    "    # Create an Asset\n",
    "    asset = Asset(\n",
    "        href=os.path.abspath(local_tiff_path),\n",
    "        media_type=\"image/tiff; application=geotiff\",\n",
    "        roles=[\"data\"]\n",
    "    )\n",
    "    \n",
    "    # Add the asset to the item\n",
    "    item.add_asset(\"plume\", asset)\n",
    "    \n",
    "    # Add the item to the collection\n",
    "    collection.add_item(item)\n",
    "\n",
    "    print(\"STAC Collection created successfully!\")\n",
    "    print(\"Collection ID:\", collection.id)\n",
    "    print(\"Item ID:\", item.id)\n",
    "    print(\"Image Projection:\", dataset.crs)"
   ]
  },
  {
   "cell_type": "code",
   "execution_count": null,
   "id": "1df4c89f-446a-4232-ac7d-ad5381ac0c1d",
   "metadata": {},
   "outputs": [],
   "source": []
  },
  {
   "cell_type": "code",
   "execution_count": 21,
   "id": "4845b20d-5ab2-49ab-9c24-9669bb188f57",
   "metadata": {},
   "outputs": [
    {
     "name": "stdout",
     "output_type": "stream",
     "text": [
      "{\n",
      "  \"assets\": {\n",
      "    \"image\": {\n",
      "      \"href\": \"C:\\\\CAL\\\\module_3\\\\exported_plume.tif\",\n",
      "      \"type\": \"image/tiff; application=geotiff\"\n",
      "    }\n",
      "  },\n",
      "  \"bbox\": [\n",
      "    -103.872506713,\n",
      "    32.045618193,\n",
      "    -103.853528575,\n",
      "    32.057005076\n",
      "  ]\n",
      "}\n"
     ]
    }
   ],
   "source": [
    "import os\n",
    "import rasterio\n",
    "import json\n",
    "\n",
    "local_tiff_path = r\"C:\\CAL\\module_3\\exported_plume.tif\"\n",
    "\n",
    "# Create and display the STAC metadata\n",
    "with rasterio.open(local_tiff_path) as dataset:\n",
    "    bounds = dataset.bounds\n",
    "    stac_dict = {\n",
    "        'assets': {\n",
    "            'image': {\n",
    "                'href': os.path.abspath(local_tiff_path),\n",
    "                'type': 'image/tiff; application=geotiff'\n",
    "            }\n",
    "        },\n",
    "        'bbox': [\n",
    "            bounds.left,\n",
    "            bounds.bottom,\n",
    "            bounds.right,\n",
    "            bounds.top\n",
    "        ],\n",
    "        'stac_extensions': []\n",
    "    }\n",
    "\n",
    "    # Print just the bbox and assets portions\n",
    "    relevant_info = {\n",
    "        'assets': stac_dict['assets'],\n",
    "        'bbox': stac_dict['bbox']\n",
    "    }\n",
    "    print(json.dumps(relevant_info, indent=2))"
   ]
  },
  {
   "cell_type": "code",
   "execution_count": 22,
   "id": "6b8a06d4-d390-4863-89cb-e31900ff42e0",
   "metadata": {},
   "outputs": [
    {
     "name": "stdout",
     "output_type": "stream",
     "text": [
      "\n",
      "==================================================\n",
      "STAC Metadata for Plume GeoTIFF\n",
      "==================================================\n",
      "\n",
      "{\n",
      "  \"assets\": {\n",
      "    \"image\": {\n",
      "      \"href\": \"C:\\\\CAL\\\\module_3\\\\exported_plume.tif\",\n",
      "      \"type\": \"image/tiff; application=geotiff\"\n",
      "    }\n",
      "  },\n",
      "  \"bbox\": [\n",
      "    -103.872506713,\n",
      "    32.045618193,\n",
      "    -103.853528575,\n",
      "    32.057005076\n",
      "  ]\n",
      "}\n",
      "\n",
      "==================================================\n",
      "\n"
     ]
    }
   ],
   "source": [
    "print(\"\\n\" + \"=\"*50)\n",
    "print(\"STAC Metadata for Plume GeoTIFF\")\n",
    "print(\"=\"*50 + \"\\n\")\n",
    "print(json.dumps(relevant_info, indent=2))\n",
    "print(\"\\n\" + \"=\"*50 + \"\\n\")"
   ]
  },
  {
   "cell_type": "code",
   "execution_count": null,
   "id": "13997718-ec34-4c60-8bb7-160cd47dbeff",
   "metadata": {},
   "outputs": [],
   "source": []
  }
 ],
 "metadata": {
  "kernelspec": {
   "display_name": "Python 3 (ipykernel)",
   "language": "python",
   "name": "python3"
  },
  "language_info": {
   "codemirror_mode": {
    "name": "ipython",
    "version": 3
   },
   "file_extension": ".py",
   "mimetype": "text/x-python",
   "name": "python",
   "nbconvert_exporter": "python",
   "pygments_lexer": "ipython3",
   "version": "3.11.5"
  }
 },
 "nbformat": 4,
 "nbformat_minor": 5
}
