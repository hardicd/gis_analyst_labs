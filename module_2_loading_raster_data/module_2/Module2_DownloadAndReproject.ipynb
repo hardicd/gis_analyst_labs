{
 "cells": [
  {
   "cell_type": "markdown",
   "id": "d7b75aad-2d8e-4e55-8754-d4826831255d",
   "metadata": {},
   "source": [
    "### This modified notebook will downlaod the tiff files off 'https://e84-earth-search-sentinel-data.s3.us-west-2.amazonaws.com/sentinel-2-pre-c1-l2a/21/N/YC/2022/12/S2B_T21NYC_20221205T140704_L2A/TCI.tif', show the projection, reproject them in the next block. A progress bar is added as well. (check the screenshots!)"
   ]
  },
  {
   "cell_type": "code",
   "execution_count": 2,
   "id": "aace548d-2149-4ea6-bf20-91be88c2e5a2",
   "metadata": {},
   "outputs": [],
   "source": [
    "import os\n",
    "import rasterio\n",
    "import urllib.request\n",
    "import pystac\n",
    "import rasterio\n",
    "\n",
    "from shapely.geometry import Polygon, mapping\n",
    "from datetime import datetime, timezone\n",
    "from pystac.extensions.eo import Band, EOExtension\n",
    "from tempfile import TemporaryDirectory"
   ]
  },
  {
   "cell_type": "code",
   "execution_count": 5,
   "id": "16ab1428-6865-4a73-925c-ab880d66f6b0",
   "metadata": {},
   "outputs": [],
   "source": [
    "import os\n",
    "import rasterio\n",
    "import urllib.request\n",
    "import pystac\n",
    "\n",
    "from shapely.geometry import Polygon, mapping\n",
    "from datetime import datetime, timezone\n",
    "from pystac.extensions.eo import Band, EOExtension\n",
    "from tempfile import TemporaryDirectory"
   ]
  },
  {
   "cell_type": "code",
   "execution_count": null,
   "id": "060d4834-0654-4031-8f3e-dd04b4bf62f0",
   "metadata": {},
   "outputs": [
    {
     "name": "stdout",
     "output_type": "stream",
     "text": [
      "Downloading\n"
     ]
    },
    {
     "name": "stderr",
     "output_type": "stream",
     "text": [
      "Downloading Sentinel-2 Image:  37%|███▋      | 53.8M/145M [02:54<04:56, 309kB/s]   "
     ]
    }
   ],
   "source": [
    "class DownloadProgressBar(tqdm):\n",
    "    def update_to(self, b=1, bsize=1, tsize=None):\n",
    "        if tsize is not None:\n",
    "            self.total = tsize\n",
    "        self.update(b * bsize - self.n)\n",
    "\n",
    "# Set temporary directory to store source data\n",
    "tmp_dir = TemporaryDirectory()\n",
    "img_path1 = os.path.join(tmp_dir.name, 'image1.tif')\n",
    "\n",
    "# Fetch and store data\n",
    "url1 = ('https://e84-earth-search-sentinel-data.s3.us-west-2.amazonaws.com/sentinel-2-pre-c1-l2a/21/N/YC/2022/12/S2B_T21NYC_20221205T140704_L2A/TCI.tif')\n",
    "\n",
    "print(\"Downloading\")\n",
    "with DownloadProgressBar(unit='B', unit_scale=True, miniters=1, desc=\"Downloading Sentinel-2 Image\") as t:\n",
    "    urllib.request.urlretrieve(url1, img_path1, reporthook=t.update_to)\n",
    "\n",
    "print(\"Download complete!\")\n",
    "print(\"img_path1:\", img_path1, \"\\n\")\n",
    "\n",
    "# Extract and print projection\n",
    "with rasterio.open(img_path1) as dataset:\n",
    "    print(\"Image Projection:\", dataset.crs)\n"
   ]
  },
  {
   "cell_type": "code",
   "execution_count": 23,
   "id": "39d4c9de-f870-4995-bf08-ff924c8b6f17",
   "metadata": {},
   "outputs": [
    {
     "name": "stdout",
     "output_type": "stream",
     "text": [
      "Reprojection complete!\n",
      "Reprojected image saved at: C:\\Users\\shubh\\AppData\\Local\\Temp\\tmpftjiy7_s\\image1_reprojected.tif\n",
      "New Image Projection: EPSG:4326\n"
     ]
    }
   ],
   "source": [
    "import rasterio\n",
    "from rasterio.warp import calculate_default_transform, reproject, Resampling\n",
    "\n",
    "# Define output path for reprojected image\n",
    "reprojected_img_path = os.path.join(tmp_dir.name, 'image1_reprojected.tif')\n",
    "\n",
    "# Open the original dataset\n",
    "with rasterio.open(img_path1) as src:\n",
    "    # Define target CRS\n",
    "    dst_crs = \"EPSG:4326\"\n",
    "    \n",
    "    # Calculate transform and new dimensions\n",
    "    transform, width, height = calculate_default_transform(\n",
    "        src.crs, dst_crs, src.width, src.height, *src.bounds)\n",
    "    \n",
    "    # Define metadata for output file\n",
    "    kwargs = src.meta.copy()\n",
    "    kwargs.update({\n",
    "        'crs': dst_crs,\n",
    "        'transform': transform,\n",
    "        'width': width,\n",
    "        'height': height\n",
    "    })\n",
    "    \n",
    "    # Reproject and save to new file\n",
    "    with rasterio.open(reprojected_img_path, 'w', **kwargs) as dst:\n",
    "        for i in range(1, src.count + 1):\n",
    "            reproject(\n",
    "                source=rasterio.band(src, i),\n",
    "                destination=rasterio.band(dst, i),\n",
    "                src_transform=src.transform,\n",
    "                src_crs=src.crs,\n",
    "                dst_transform=transform,\n",
    "                dst_crs=dst_crs,\n",
    "                resampling=Resampling.nearest\n",
    "            )\n",
    "\n",
    "print(\"Reprojection complete!\")\n",
    "print(\"Reprojected image saved at:\", reprojected_img_path)\n",
    "\n",
    "# Verify new projection\n",
    "with rasterio.open(reprojected_img_path) as dst:\n",
    "    print(\"New Image Projection:\", dst.crs)\n"
   ]
  },
  {
   "cell_type": "code",
   "execution_count": null,
   "id": "1df4c89f-446a-4232-ac7d-ad5381ac0c1d",
   "metadata": {},
   "outputs": [],
   "source": []
  },
  {
   "cell_type": "code",
   "execution_count": null,
   "id": "d80fe5c1-f138-4bce-aede-e788499900a6",
   "metadata": {},
   "outputs": [],
   "source": []
  },
  {
   "cell_type": "code",
   "execution_count": null,
   "id": "4845b20d-5ab2-49ab-9c24-9669bb188f57",
   "metadata": {},
   "outputs": [],
   "source": []
  },
  {
   "cell_type": "code",
   "execution_count": 7,
   "id": "69e30f22-7f21-444c-a82f-9b5c53147351",
   "metadata": {},
   "outputs": [],
   "source": [
    "def get_bbox_and_footprint(raster):\n",
    "    with rasterio.open(raster) as r:\n",
    "        bounds = r.bounds\n",
    "        bbox = [bounds.left, bounds.bottom, bounds.right, bounds.top]\n",
    "        footprint = Polygon([\n",
    "            [bounds.left, bounds.bottom],\n",
    "            [bounds.left, bounds.top],\n",
    "            [bounds.right, bounds.top],\n",
    "            [bounds.right, bounds.bottom]\n",
    "        ])\n",
    "        \n",
    "        return (bbox, mapping(footprint))"
   ]
  },
  {
   "cell_type": "code",
   "execution_count": 8,
   "id": "02ef0fbf-372e-4821-91fa-d8c964f63a50",
   "metadata": {},
   "outputs": [
    {
     "name": "stdout",
     "output_type": "stream",
     "text": [
      "bbox:  [37.6616853489879, 55.73478197572927, 37.66573047610874, 55.73882710285011] \n",
      "\n",
      "footprint:  {'type': 'Polygon', 'coordinates': (((37.6616853489879, 55.73478197572927), (37.6616853489879, 55.73882710285011), (37.66573047610874, 55.73882710285011), (37.66573047610874, 55.73478197572927), (37.6616853489879, 55.73478197572927)),)}\n"
     ]
    }
   ],
   "source": [
    "# Run the function and print out the results for image 1\n",
    "bbox, footprint = get_bbox_and_footprint(img_path1)\n",
    "print(\"bbox: \", bbox, \"\\n\")\n",
    "print(\"footprint: \", footprint)"
   ]
  },
  {
   "cell_type": "code",
   "execution_count": 9,
   "id": "3a12f56c-d4a3-4c62-86d6-c22b53ef2cdf",
   "metadata": {},
   "outputs": [
    {
     "name": "stdout",
     "output_type": "stream",
     "text": [
      "bbox:  [37.67786535472783, 55.726691972859314, 37.68191048184866, 55.730737099980146] \n",
      "\n",
      "footprint:  {'type': 'Polygon', 'coordinates': (((37.67786535472783, 55.726691972859314), (37.67786535472783, 55.730737099980146), (37.68191048184866, 55.730737099980146), (37.68191048184866, 55.726691972859314), (37.67786535472783, 55.726691972859314)),)}\n"
     ]
    }
   ],
   "source": [
    "# Run the function and print out the results for image 2\n",
    "bbox2, footprint2 = get_bbox_and_footprint(img_path2)\n",
    "print(\"bbox: \", bbox2, \"\\n\")\n",
    "print(\"footprint: \", footprint2)"
   ]
  },
  {
   "cell_type": "code",
   "execution_count": 10,
   "id": "f5b381cb-353a-49d2-90f0-784d594de771",
   "metadata": {},
   "outputs": [],
   "source": [
    "wv3_bands = [Band.create(name='Coastal', description='Coastal: 400 - 450 nm', common_name='coastal'),\n",
    "             Band.create(name='Blue', description='Blue: 450 - 510 nm', common_name='blue'),\n",
    "             Band.create(name='Green', description='Green: 510 - 580 nm', common_name='green'),\n",
    "             Band.create(name='Yellow', description='Yellow: 585 - 625 nm', common_name='yellow'),\n",
    "             Band.create(name='Red', description='Red: 630 - 690 nm', common_name='red'),\n",
    "             Band.create(name='Red Edge', description='Red Edge: 705 - 745 nm', common_name='rededge'),\n",
    "             Band.create(name='Near-IR1', description='Near-IR1: 770 - 895 nm', common_name='nir08'),\n",
    "             Band.create(name='Near-IR2', description='Near-IR2: 860 - 1040 nm', common_name='nir09')]"
   ]
  },
  {
   "cell_type": "code",
   "execution_count": 11,
   "id": "eafe78c4-a270-45d4-b3ce-3eddbbdc853e",
   "metadata": {},
   "outputs": [],
   "source": [
    "wv3_bands = [Band.create(name='Coastal', description='Coastal: 400 - 450 nm', common_name='coastal'),\n",
    "             Band.create(name='Blue', description='Blue: 450 - 510 nm', common_name='blue'),\n",
    "             Band.create(name='Green', description='Green: 510 - 580 nm', common_name='green'),\n",
    "             Band.create(name='Yellow', description='Yellow: 585 - 625 nm', common_name='yellow'),\n",
    "             Band.create(name='Red', description='Red: 630 - 690 nm', common_name='red'),\n",
    "             Band.create(name='Red Edge', description='Red Edge: 705 - 745 nm', common_name='rededge'),\n",
    "             Band.create(name='Near-IR1', description='Near-IR1: 770 - 895 nm', common_name='nir08'),\n",
    "             Band.create(name='Near-IR2', description='Near-IR2: 860 - 1040 nm', common_name='nir09')]"
   ]
  },
  {
   "cell_type": "code",
   "execution_count": 12,
   "id": "3dba2f15-192b-4bba-be4a-d2a9d1f547a7",
   "metadata": {},
   "outputs": [],
   "source": [
    "collection_item = pystac.Item(id='local-image-col-1',\n",
    "                               geometry=footprint,\n",
    "                               bbox=bbox,\n",
    "                               datetime=datetime.utcnow(),\n",
    "                               properties={})\n",
    "\n",
    "collection_item.common_metadata.gsd = 0.3\n",
    "collection_item.common_metadata.platform = 'Maxar'\n",
    "collection_item.common_metadata.instruments = ['WorldView3']\n",
    "\n",
    "asset = pystac.Asset(href=img_path1, \n",
    "                      media_type=pystac.MediaType.GEOTIFF)\n",
    "collection_item.add_asset(\"image\", asset)\n",
    "eo = EOExtension.ext(collection_item.assets[\"image\"], add_if_missing=True)\n",
    "eo.apply(wv3_bands)\n",
    "\n",
    "collection_item2 = pystac.Item(id='local-image-col-2',\n",
    "                               geometry=footprint2,\n",
    "                               bbox=bbox2,\n",
    "                               datetime=datetime.utcnow(),\n",
    "                               properties={})\n",
    "\n",
    "collection_item2.common_metadata.gsd = 0.3\n",
    "collection_item2.common_metadata.platform = 'Maxar'\n",
    "collection_item2.common_metadata.instruments = ['WorldView3']\n",
    "\n",
    "asset2 = pystac.Asset(href=img_path2,\n",
    "                     media_type=pystac.MediaType.GEOTIFF)\n",
    "collection_item2.add_asset(\"image\", asset2)\n",
    "eo = EOExtension.ext(collection_item2.assets[\"image\"], add_if_missing=True)\n",
    "eo.apply([\n",
    "    band for band in wv3_bands if band.name in [\"Red\", \"Green\", \"Blue\"]\n",
    "])"
   ]
  },
  {
   "cell_type": "code",
   "execution_count": 13,
   "id": "a967ea7c-dedc-4276-804b-5561d78c35f1",
   "metadata": {},
   "outputs": [],
   "source": [
    "from shapely.geometry import shape\n",
    "\n",
    "unioned_footprint = shape(footprint).union(shape(footprint2))\n",
    "collection_bbox = list(unioned_footprint.bounds)\n",
    "spatial_extent = pystac.SpatialExtent(bboxes=[collection_bbox])"
   ]
  },
  {
   "cell_type": "code",
   "execution_count": 14,
   "id": "0884e0d5-1fe9-4b39-afc1-f42de724d8b8",
   "metadata": {},
   "outputs": [],
   "source": [
    "collection_interval = sorted([collection_item.datetime, collection_item2.datetime])\n",
    "temporal_extent = pystac.TemporalExtent(intervals=[collection_interval])"
   ]
  },
  {
   "cell_type": "code",
   "execution_count": 15,
   "id": "1a6d894c-8999-46fe-a60e-6830d7b2cb5f",
   "metadata": {},
   "outputs": [],
   "source": [
    "collection_extent = pystac.Extent(spatial=spatial_extent, temporal=temporal_extent)"
   ]
  },
  {
   "cell_type": "code",
   "execution_count": 16,
   "id": "4b9a4eae-3e62-4bbf-961b-0f73d578fd94",
   "metadata": {},
   "outputs": [],
   "source": [
    "collection = pystac.Collection(id='wv3-images',\n",
    "                               description='Spacenet 5 images over Moscow',\n",
    "                               extent=collection_extent,\n",
    "                               license='CC-BY-SA-4.0')"
   ]
  },
  {
   "cell_type": "code",
   "execution_count": 17,
   "id": "757a052a-49ae-4254-8b2b-f95a0cf701e0",
   "metadata": {},
   "outputs": [
    {
     "data": {
      "text/html": [
       "\n",
       "\n",
       "<style>\n",
       ".pystac-summary {\n",
       "    cursor: pointer;\n",
       "    display: list-item;\n",
       "    list-style: revert;\n",
       "    margin-bottom: 0 !important;\n",
       "\n",
       "    .pystac-l {\n",
       "        padding-left: 0.5em;\n",
       "        color: rgb(64, 128, 128);\n",
       "        font-style: italic;\n",
       "    }\n",
       "}\n",
       ".pystac-row {\n",
       "    overflow-wrap: break-word;\n",
       "    padding-left: .825em;\n",
       "\n",
       "    .pystac-k {\n",
       "        display: inline-block;\n",
       "        margin: 0px 0.5em 0px 0px;\n",
       "    }\n",
       "    .pystac-v {\n",
       "        color: rgb(186, 33, 33);\n",
       "    }\n",
       "}\n",
       ".pystac-k {\n",
       "    color: rgb(0, 128, 0);\n",
       "    font-weight: 700;\n",
       "}\n",
       "</style>\n",
       "<div class=\"jp-RenderedJSON jp-mod-trusted jp-OutputArea-output\">\n",
       "    <div class=\"container\" style=\"line-height: normal;\">\n",
       "        <ul style=\"padding: 0px; margin: 0px; list-style: none; display: block;\">\n",
       "            \n",
       "                \n",
       "                    \n",
       "        <li class=\"pystac-row\">\n",
       "            <span class=\"pystac-k\">rel</span>\n",
       "            <span class=\"pystac-v\">\"child\"</span>\n",
       "        </li>\n",
       "    \n",
       "                \n",
       "            \n",
       "                \n",
       "                    \n",
       "        <li class=\"pystac-row\">\n",
       "            <span class=\"pystac-k\">href</span>\n",
       "            <span class=\"pystac-v\">None</span>\n",
       "        </li>\n",
       "    \n",
       "                \n",
       "            \n",
       "                \n",
       "                    \n",
       "        <li class=\"pystac-row\">\n",
       "            <span class=\"pystac-k\">type</span>\n",
       "            <span class=\"pystac-v\">\"application/json\"</span>\n",
       "        </li>\n",
       "    \n",
       "                \n",
       "            \n",
       "        </ul>\n",
       "    </div>\n",
       "</div>"
      ],
      "text/plain": [
       "<Link rel=child target=<Collection id=wv3-images>>"
      ]
     },
     "execution_count": 17,
     "metadata": {},
     "output_type": "execute_result"
    }
   ],
   "source": [
    "collection.add_items([collection_item, collection_item2])\n",
    "catalog = pystac.Catalog(id='catalog-with-collection', \n",
    "                         description='This Catalog is a basic demonstration of how to include a Collection in a STAC Catalog.')\n",
    "catalog.add_child(collection)"
   ]
  },
  {
   "cell_type": "code",
   "execution_count": 18,
   "id": "9e97465d-978e-4ed7-bbc1-c79f6de11288",
   "metadata": {},
   "outputs": [
    {
     "name": "stdout",
     "output_type": "stream",
     "text": [
      "* <Catalog id=catalog-with-collection>\n",
      "    * <Collection id=wv3-images>\n",
      "      * <Item id=local-image-col-1>\n",
      "      * <Item id=local-image-col-2>\n"
     ]
    }
   ],
   "source": [
    "catalog.describe()"
   ]
  },
  {
   "cell_type": "code",
   "execution_count": 19,
   "id": "0a56b88b-34ae-4d57-832a-52605e37d751",
   "metadata": {},
   "outputs": [],
   "source": [
    "catalog.normalize_and_save(root_href=os.path.join(tmp_dir.name, 'stac-collection'), \n",
    "                           catalog_type=pystac.CatalogType.SELF_CONTAINED)"
   ]
  },
  {
   "cell_type": "code",
   "execution_count": 4,
   "id": "a436077c-d3a8-42ac-a1fe-cc9bb4436a12",
   "metadata": {},
   "outputs": [
    {
     "name": "stdout",
     "output_type": "stream",
     "text": [
      "{'assets': {'image': {'href': 'https://e84-earth-search-sentinel-data.s3.us-west-2.amazonaws.com/sentinel-2-pre-c1-l2a/21/N/YC/2022/12/S2B_T21NYC_20221205T140704_L2A/TCI.tif', 'type': 'image/tiff; application=geotiff'}}, 'bbox': [-55.202501808647625, 1.7187506083549096, -54.214267703874334, 2.7128294056121574], 'stac_extensions': []}\n"
     ]
    }
   ],
   "source": [
    "import os\n",
    "import rasterio\n",
    "from rasterio.warp import transform_bounds\n",
    "import urllib.request\n",
    "import pystac\n",
    "from shapely.geometry import Polygon, mapping\n",
    "from datetime import datetime, timezone\n",
    "from pystac.extensions.eo import Band, EOExtension\n",
    "from tempfile import TemporaryDirectory\n",
    "\n",
    "def get_tiff_metadata(tiff_path):\n",
    "    \"\"\"\n",
    "    Extract bbox and assets information from a GeoTIFF file.\n",
    "    \n",
    "    Args:\n",
    "        tiff_path (str): Path to the GeoTIFF file\n",
    "        \n",
    "    Returns:\n",
    "        dict: Dictionary containing bbox and assets information\n",
    "    \"\"\"\n",
    "    with rasterio.open(tiff_path) as dataset:\n",
    "        # Get the bounds in the original CRS\n",
    "        bounds = dataset.bounds\n",
    "        \n",
    "        # Transform bounds from original CRS to WGS84 (EPSG:4326)\n",
    "        bbox = transform_bounds(dataset.crs, 'EPSG:4326',\n",
    "                              bounds.left, bounds.bottom,\n",
    "                              bounds.right, bounds.top)\n",
    "        \n",
    "        # Create the metadata structure\n",
    "        metadata = {\n",
    "            \"assets\": {\n",
    "                \"image\": {\n",
    "                    \"href\": tiff_path,\n",
    "                    \"type\": \"image/tiff; application=geotiff\"\n",
    "                }\n",
    "            },\n",
    "            \"bbox\": list(bbox),\n",
    "            \"stac_extensions\": []\n",
    "        }\n",
    "        \n",
    "        return metadata\n",
    "\n",
    "tiff_path = \"https://e84-earth-search-sentinel-data.s3.us-west-2.amazonaws.com/sentinel-2-pre-c1-l2a/21/N/YC/2022/12/S2B_T21NYC_20221205T140704_L2A/TCI.tif\"\n",
    "try:\n",
    "    metadata = get_tiff_metadata(tiff_path)\n",
    "    print(metadata)\n",
    "except Exception as e:\n",
    "    print(f\"Error processing file: {e}\")"
   ]
  },
  {
   "cell_type": "code",
   "execution_count": null,
   "id": "4ca01eed-d571-4173-b60e-e599f1329186",
   "metadata": {},
   "outputs": [],
   "source": []
  },
  {
   "cell_type": "code",
   "execution_count": null,
   "id": "d6a35676-298a-4af7-bd66-06e99516e728",
   "metadata": {},
   "outputs": [],
   "source": []
  },
  {
   "cell_type": "code",
   "execution_count": null,
   "id": "6b37f4a7-37d6-449c-b525-78a17bf39fb1",
   "metadata": {},
   "outputs": [],
   "source": []
  },
  {
   "cell_type": "code",
   "execution_count": null,
   "id": "90fc9e4e-4150-44ff-9e56-62de37acb612",
   "metadata": {},
   "outputs": [],
   "source": []
  }
 ],
 "metadata": {
  "kernelspec": {
   "display_name": "Python 3 (ipykernel)",
   "language": "python",
   "name": "python3"
  },
  "language_info": {
   "codemirror_mode": {
    "name": "ipython",
    "version": 3
   },
   "file_extension": ".py",
   "mimetype": "text/x-python",
   "name": "python",
   "nbconvert_exporter": "python",
   "pygments_lexer": "ipython3",
   "version": "3.11.5"
  }
 },
 "nbformat": 4,
 "nbformat_minor": 5
}
